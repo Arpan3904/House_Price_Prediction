{
 "cells": [
  {
   "cell_type": "code",
   "execution_count": 104,
   "id": "3f00aab8",
   "metadata": {},
   "outputs": [],
   "source": [
    "import numpy as np\n",
    "import matplotlib.pyplot as plt\n",
    "import pandas as pd"
   ]
  },
  {
   "cell_type": "code",
   "execution_count": 105,
   "id": "c3163104",
   "metadata": {},
   "outputs": [],
   "source": [
    "dataset = pd.read_csv('Housing.csv')"
   ]
  },
  {
   "cell_type": "code",
   "execution_count": 106,
   "id": "75e52c54",
   "metadata": {},
   "outputs": [
    {
     "name": "stdout",
     "output_type": "stream",
     "text": [
      "<class 'pandas.core.frame.DataFrame'>\n",
      "RangeIndex: 545 entries, 0 to 544\n",
      "Data columns (total 13 columns):\n",
      " #   Column            Non-Null Count  Dtype \n",
      "---  ------            --------------  ----- \n",
      " 0   price             545 non-null    int64 \n",
      " 1   area              545 non-null    int64 \n",
      " 2   bedrooms          545 non-null    int64 \n",
      " 3   bathrooms         545 non-null    int64 \n",
      " 4   stories           545 non-null    int64 \n",
      " 5   mainroad          545 non-null    object\n",
      " 6   guestroom         545 non-null    object\n",
      " 7   basement          545 non-null    object\n",
      " 8   hotwaterheating   545 non-null    object\n",
      " 9   airconditioning   545 non-null    object\n",
      " 10  parking           545 non-null    int64 \n",
      " 11  prefarea          545 non-null    object\n",
      " 12  furnishingstatus  545 non-null    object\n",
      "dtypes: int64(6), object(7)\n",
      "memory usage: 55.5+ KB\n"
     ]
    }
   ],
   "source": [
    "dataset.info()"
   ]
  },
  {
   "cell_type": "code",
   "execution_count": 107,
   "id": "da9d4223",
   "metadata": {},
   "outputs": [],
   "source": [
    "df = pd.DataFrame(dataset)"
   ]
  },
  {
   "cell_type": "code",
   "execution_count": 108,
   "id": "1a74cd3e",
   "metadata": {},
   "outputs": [
    {
     "name": "stdout",
     "output_type": "stream",
     "text": [
      "        price  area  bedrooms  bathrooms  stories  mainroad  guestroom  \\\n",
      "0    13300000  7420         4          2        3         1          0   \n",
      "1    12250000  8960         4          4        4         1          0   \n",
      "2    12250000  9960         3          2        2         1          0   \n",
      "3    12215000  7500         4          2        2         1          0   \n",
      "4    11410000  7420         4          1        2         1          1   \n",
      "..        ...   ...       ...        ...      ...       ...        ...   \n",
      "540   1820000  3000         2          1        1         1          0   \n",
      "541   1767150  2400         3          1        1         0          0   \n",
      "542   1750000  3620         2          1        1         1          0   \n",
      "543   1750000  2910         3          1        1         0          0   \n",
      "544   1750000  3850         3          1        2         1          0   \n",
      "\n",
      "     basement  hotwaterheating  airconditioning  parking  prefarea  \\\n",
      "0           0                0                1        2         1   \n",
      "1           0                0                1        3         0   \n",
      "2           1                0                0        2         1   \n",
      "3           1                0                1        3         1   \n",
      "4           1                0                1        2         0   \n",
      "..        ...              ...              ...      ...       ...   \n",
      "540         1                0                0        2         0   \n",
      "541         0                0                0        0         0   \n",
      "542         0                0                0        0         0   \n",
      "543         0                0                0        0         0   \n",
      "544         0                0                0        0         0   \n",
      "\n",
      "     furnishingstatus  \n",
      "0                   0  \n",
      "1                   0  \n",
      "2                   1  \n",
      "3                   0  \n",
      "4                   0  \n",
      "..                ...  \n",
      "540                 2  \n",
      "541                 1  \n",
      "542                 2  \n",
      "543                 0  \n",
      "544                 2  \n",
      "\n",
      "[545 rows x 13 columns]\n"
     ]
    }
   ],
   "source": [
    "from sklearn.preprocessing import LabelEncoder\n",
    "encoder = LabelEncoder()\n",
    "encode_columns = ['mainroad', 'guestroom','basement','hotwaterheating','airconditioning','furnishingstatus','prefarea']\n",
    "for column in encode_columns:\n",
    "    df[column] = encoder.fit_transform(df[column])\n",
    "\n",
    "print(df)"
   ]
  },
  {
   "cell_type": "code",
   "execution_count": 109,
   "id": "c8dc67d3",
   "metadata": {},
   "outputs": [],
   "source": [
    "from sklearn.preprocessing import StandardScaler\n",
    "sc = StandardScaler()\n",
    "df['area'] = sc.fit_transform(df[['area']])"
   ]
  },
  {
   "cell_type": "code",
   "execution_count": 110,
   "id": "96fdd18c",
   "metadata": {},
   "outputs": [],
   "source": [
    "X = df.iloc[:, 1:].values\n",
    "y = df.iloc[:, 0].values"
   ]
  },
  {
   "cell_type": "code",
   "execution_count": 111,
   "id": "20a0013f",
   "metadata": {},
   "outputs": [
    {
     "name": "stdout",
     "output_type": "stream",
     "text": [
      "[1.05 4.   2.   3.   1.   0.   0.   0.   1.   2.   1.   0.  ]\n"
     ]
    }
   ],
   "source": [
    "print(X[0])"
   ]
  },
  {
   "cell_type": "code",
   "execution_count": 112,
   "id": "a20cdcce",
   "metadata": {},
   "outputs": [
    {
     "name": "stdout",
     "output_type": "stream",
     "text": [
      "13300000\n"
     ]
    }
   ],
   "source": [
    "print(y[0])"
   ]
  },
  {
   "cell_type": "code",
   "execution_count": 113,
   "id": "4dcf71bc",
   "metadata": {},
   "outputs": [],
   "source": [
    "from sklearn.model_selection import train_test_split\n",
    "X_train, X_test, y_train, y_test = train_test_split(X, y, test_size = 0.2, random_state = 1)"
   ]
  },
  {
   "cell_type": "code",
   "execution_count": 114,
   "id": "32d479ce",
   "metadata": {},
   "outputs": [
    {
     "data": {
      "text/plain": [
       "array([-0.5,  3. ,  1. ,  1. ,  1. ,  1. ,  1. ,  0. ,  0. ,  2. ,  0. ,\n",
       "        1. ])"
      ]
     },
     "execution_count": 114,
     "metadata": {},
     "output_type": "execute_result"
    }
   ],
   "source": [
    "X_train[0]"
   ]
  },
  {
   "cell_type": "code",
   "execution_count": 115,
   "id": "759eadf9",
   "metadata": {},
   "outputs": [
    {
     "data": {
      "text/plain": [
       "4340000"
      ]
     },
     "execution_count": 115,
     "metadata": {},
     "output_type": "execute_result"
    }
   ],
   "source": [
    "y_train[0]"
   ]
  },
  {
   "cell_type": "code",
   "execution_count": 116,
   "id": "fca80cac",
   "metadata": {},
   "outputs": [
    {
     "data": {
      "text/plain": [
       "array([0.5, 4. , 2. , 2. , 1. , 0. , 0. , 0. , 1. , 1. , 0. , 0. ])"
      ]
     },
     "execution_count": 116,
     "metadata": {},
     "output_type": "execute_result"
    }
   ],
   "source": [
    "X_test[0]"
   ]
  },
  {
   "cell_type": "code",
   "execution_count": 117,
   "id": "258a39c8",
   "metadata": {},
   "outputs": [
    {
     "data": {
      "text/plain": [
       "7070000"
      ]
     },
     "execution_count": 117,
     "metadata": {},
     "output_type": "execute_result"
    }
   ],
   "source": [
    "y_test[0]"
   ]
  },
  {
   "cell_type": "code",
   "execution_count": 118,
   "id": "34044353",
   "metadata": {},
   "outputs": [
    {
     "data": {
      "text/html": [
       "<style>#sk-container-id-10 {color: black;background-color: white;}#sk-container-id-10 pre{padding: 0;}#sk-container-id-10 div.sk-toggleable {background-color: white;}#sk-container-id-10 label.sk-toggleable__label {cursor: pointer;display: block;width: 100%;margin-bottom: 0;padding: 0.3em;box-sizing: border-box;text-align: center;}#sk-container-id-10 label.sk-toggleable__label-arrow:before {content: \"▸\";float: left;margin-right: 0.25em;color: #696969;}#sk-container-id-10 label.sk-toggleable__label-arrow:hover:before {color: black;}#sk-container-id-10 div.sk-estimator:hover label.sk-toggleable__label-arrow:before {color: black;}#sk-container-id-10 div.sk-toggleable__content {max-height: 0;max-width: 0;overflow: hidden;text-align: left;background-color: #f0f8ff;}#sk-container-id-10 div.sk-toggleable__content pre {margin: 0.2em;color: black;border-radius: 0.25em;background-color: #f0f8ff;}#sk-container-id-10 input.sk-toggleable__control:checked~div.sk-toggleable__content {max-height: 200px;max-width: 100%;overflow: auto;}#sk-container-id-10 input.sk-toggleable__control:checked~label.sk-toggleable__label-arrow:before {content: \"▾\";}#sk-container-id-10 div.sk-estimator input.sk-toggleable__control:checked~label.sk-toggleable__label {background-color: #d4ebff;}#sk-container-id-10 div.sk-label input.sk-toggleable__control:checked~label.sk-toggleable__label {background-color: #d4ebff;}#sk-container-id-10 input.sk-hidden--visually {border: 0;clip: rect(1px 1px 1px 1px);clip: rect(1px, 1px, 1px, 1px);height: 1px;margin: -1px;overflow: hidden;padding: 0;position: absolute;width: 1px;}#sk-container-id-10 div.sk-estimator {font-family: monospace;background-color: #f0f8ff;border: 1px dotted black;border-radius: 0.25em;box-sizing: border-box;margin-bottom: 0.5em;}#sk-container-id-10 div.sk-estimator:hover {background-color: #d4ebff;}#sk-container-id-10 div.sk-parallel-item::after {content: \"\";width: 100%;border-bottom: 1px solid gray;flex-grow: 1;}#sk-container-id-10 div.sk-label:hover label.sk-toggleable__label {background-color: #d4ebff;}#sk-container-id-10 div.sk-serial::before {content: \"\";position: absolute;border-left: 1px solid gray;box-sizing: border-box;top: 0;bottom: 0;left: 50%;z-index: 0;}#sk-container-id-10 div.sk-serial {display: flex;flex-direction: column;align-items: center;background-color: white;padding-right: 0.2em;padding-left: 0.2em;position: relative;}#sk-container-id-10 div.sk-item {position: relative;z-index: 1;}#sk-container-id-10 div.sk-parallel {display: flex;align-items: stretch;justify-content: center;background-color: white;position: relative;}#sk-container-id-10 div.sk-item::before, #sk-container-id-10 div.sk-parallel-item::before {content: \"\";position: absolute;border-left: 1px solid gray;box-sizing: border-box;top: 0;bottom: 0;left: 50%;z-index: -1;}#sk-container-id-10 div.sk-parallel-item {display: flex;flex-direction: column;z-index: 1;position: relative;background-color: white;}#sk-container-id-10 div.sk-parallel-item:first-child::after {align-self: flex-end;width: 50%;}#sk-container-id-10 div.sk-parallel-item:last-child::after {align-self: flex-start;width: 50%;}#sk-container-id-10 div.sk-parallel-item:only-child::after {width: 0;}#sk-container-id-10 div.sk-dashed-wrapped {border: 1px dashed gray;margin: 0 0.4em 0.5em 0.4em;box-sizing: border-box;padding-bottom: 0.4em;background-color: white;}#sk-container-id-10 div.sk-label label {font-family: monospace;font-weight: bold;display: inline-block;line-height: 1.2em;}#sk-container-id-10 div.sk-label-container {text-align: center;}#sk-container-id-10 div.sk-container {/* jupyter's `normalize.less` sets `[hidden] { display: none; }` but bootstrap.min.css set `[hidden] { display: none !important; }` so we also need the `!important` here to be able to override the default hidden behavior on the sphinx rendered scikit-learn.org. See: https://github.com/scikit-learn/scikit-learn/issues/21755 */display: inline-block !important;position: relative;}#sk-container-id-10 div.sk-text-repr-fallback {display: none;}</style><div id=\"sk-container-id-10\" class=\"sk-top-container\"><div class=\"sk-text-repr-fallback\"><pre>LinearRegression()</pre><b>In a Jupyter environment, please rerun this cell to show the HTML representation or trust the notebook. <br />On GitHub, the HTML representation is unable to render, please try loading this page with nbviewer.org.</b></div><div class=\"sk-container\" hidden><div class=\"sk-item\"><div class=\"sk-estimator sk-toggleable\"><input class=\"sk-toggleable__control sk-hidden--visually\" id=\"sk-estimator-id-10\" type=\"checkbox\" checked><label for=\"sk-estimator-id-10\" class=\"sk-toggleable__label sk-toggleable__label-arrow\">LinearRegression</label><div class=\"sk-toggleable__content\"><pre>LinearRegression()</pre></div></div></div></div></div>"
      ],
      "text/plain": [
       "LinearRegression()"
      ]
     },
     "execution_count": 118,
     "metadata": {},
     "output_type": "execute_result"
    }
   ],
   "source": [
    "from sklearn.linear_model import LinearRegression\n",
    "regressor = LinearRegression()\n",
    "regressor.fit(X_train, y_train)"
   ]
  },
  {
   "cell_type": "code",
   "execution_count": 119,
   "id": "be5f67fb",
   "metadata": {},
   "outputs": [],
   "source": [
    "y_pred = regressor.predict(X_test)"
   ]
  },
  {
   "cell_type": "code",
   "execution_count": 120,
   "id": "904a092e",
   "metadata": {},
   "outputs": [
    {
     "name": "stdout",
     "output_type": "stream",
     "text": [
      "[[ 6360332.81  7070000.  ]\n",
      " [ 6274841.29  4550000.  ]\n",
      " [ 6491465.71  5600000.  ]\n",
      " [ 5510686.58  6125000.  ]\n",
      " [ 4181369.24  2940000.  ]\n",
      " [ 2885523.92  3780000.  ]\n",
      " [ 2763522.48  2450000.  ]\n",
      " [ 7412430.95  7490000.  ]\n",
      " [ 2441833.47  2940000.  ]\n",
      " [ 4472027.7   6440000.  ]\n",
      " [ 3808056.09  2800000.  ]\n",
      " [ 3647311.38  3325000.  ]\n",
      " [ 4719872.45  5810000.  ]\n",
      " [ 4789472.48  5950000.  ]\n",
      " [ 5311401.79  6895000.  ]\n",
      " [ 7983201.03 13300000.  ]\n",
      " [ 4241829.2   3640000.  ]\n",
      " [ 3448263.28  2870000.  ]\n",
      " [ 6721648.44  5460000.  ]\n",
      " [ 2698618.86  1890000.  ]\n",
      " [ 4541088.54  3780000.  ]\n",
      " [ 5223322.06  5600000.  ]\n",
      " [ 5259364.95  2660000.  ]\n",
      " [ 3435900.87  3640000.  ]\n",
      " [ 5371454.26  2590000.  ]\n",
      " [ 7006772.64  5250000.  ]\n",
      " [ 2810208.4   2450000.  ]\n",
      " [ 7374586.    6930000.  ]\n",
      " [ 7656537.62  9800000.  ]\n",
      " [ 4414085.87  3430000.  ]\n",
      " [ 7604494.56  7840000.  ]\n",
      " [ 6648321.02  5950000.  ]\n",
      " [ 5009078.98  3430000.  ]\n",
      " [ 4558375.25  2940000.  ]\n",
      " [ 6084943.52  6090000.  ]\n",
      " [ 4615889.23  4620000.  ]\n",
      " [ 6542538.44  4543000.  ]\n",
      " [ 3405449.55  3220000.  ]\n",
      " [ 5012056.67  5810000.  ]\n",
      " [ 5734936.66  4760000.  ]\n",
      " [ 3951160.04  3360000.  ]\n",
      " [ 3278997.09  2940000.  ]\n",
      " [ 3675598.3   2450000.  ]\n",
      " [ 4556073.94  4382000.  ]\n",
      " [ 6376266.63  8120000.  ]\n",
      " [ 3353995.5   4865000.  ]\n",
      " [ 4759726.87  4200000.  ]\n",
      " [ 2709760.28  4200000.  ]\n",
      " [ 2667485.04  3290000.  ]\n",
      " [ 3334652.27  3115000.  ]\n",
      " [ 4943104.32  5215000.  ]\n",
      " [ 4503221.11  4473000.  ]\n",
      " [ 2663682.12  3115000.  ]\n",
      " [ 3154805.19  4060000.  ]\n",
      " [ 5012058.28  4753000.  ]\n",
      " [ 4296047.14  4620000.  ]\n",
      " [ 3237973.09  2961000.  ]\n",
      " [ 4047698.21  4403000.  ]\n",
      " [ 3546337.15  4550000.  ]\n",
      " [ 4822437.1   3920000.  ]\n",
      " [ 6534004.65  5775000.  ]\n",
      " [ 6454772.52  8400000.  ]\n",
      " [ 2696508.58  3570000.  ]\n",
      " [ 4114503.09  4165000.  ]\n",
      " [ 4402648.07  4620000.  ]\n",
      " [ 2094284.52  2604000.  ]\n",
      " [ 4217105.28  4123000.  ]\n",
      " [ 3231118.72  2100000.  ]\n",
      " [ 4617592.74  2380000.  ]\n",
      " [ 4429036.24  4830000.  ]\n",
      " [ 5702881.1   3395000.  ]\n",
      " [ 5291510.27  5040000.  ]\n",
      " [ 5575530.6   5250000.  ]\n",
      " [ 2687129.59  2590000.  ]\n",
      " [ 4675526.39  6860000.  ]\n",
      " [ 3962153.91  3850000.  ]\n",
      " [ 3564981.91  1820000.  ]\n",
      " [ 6680255.65 11410000.  ]\n",
      " [ 6060360.16  5950000.  ]\n",
      " [ 3446677.31  3745000.  ]\n",
      " [ 4648501.46  3640000.  ]\n",
      " [ 3946459.2   4515000.  ]\n",
      " [ 6697664.33  8855000.  ]\n",
      " [ 6250760.96  5383000.  ]\n",
      " [ 6364272.11  5460000.  ]\n",
      " [ 5454371.18  3990000.  ]\n",
      " [ 3626358.6   5110000.  ]\n",
      " [ 2588650.2   2310000.  ]\n",
      " [ 6277345.47  6650000.  ]\n",
      " [ 3880959.25  3633000.  ]\n",
      " [ 3054062.13  3325000.  ]\n",
      " [ 4965538.02  4200000.  ]\n",
      " [ 2595319.78  2660000.  ]\n",
      " [ 7174079.83  7700000.  ]\n",
      " [ 3006015.24  2940000.  ]\n",
      " [ 5083690.54  5250000.  ]\n",
      " [ 8252165.03 10850000.  ]\n",
      " [ 3581265.62  3290000.  ]\n",
      " [ 4767163.25  5600000.  ]\n",
      " [ 6037785.12  3570000.  ]\n",
      " [ 2944142.6   3850000.  ]\n",
      " [ 8044507.44  8960000.  ]\n",
      " [ 4362704.79  3703000.  ]\n",
      " [ 3565873.06  3500000.  ]\n",
      " [ 4647878.05  4900000.  ]\n",
      " [ 6977521.25  6405000.  ]\n",
      " [ 7030521.62  6930000.  ]\n",
      " [ 4325441.54  4270000.  ]\n",
      " [ 5317116.1   5110000.  ]]\n"
     ]
    }
   ],
   "source": [
    "y_pred = regressor.predict(X_test)\n",
    "np.set_printoptions(precision=2)\n",
    "print(np.concatenate((y_pred.reshape(len(y_pred),1), y_test.reshape(len(y_test),1)),1))"
   ]
  },
  {
   "cell_type": "code",
   "execution_count": 121,
   "id": "47b0ab59",
   "metadata": {},
   "outputs": [
    {
     "data": {
      "text/plain": [
       "0.6183140939593389"
      ]
     },
     "execution_count": 121,
     "metadata": {},
     "output_type": "execute_result"
    }
   ],
   "source": [
    "from sklearn.metrics import r2_score\n",
    "r2_score(y_test, y_pred)"
   ]
  },
  {
   "cell_type": "code",
   "execution_count": 122,
   "id": "bac39791",
   "metadata": {},
   "outputs": [],
   "source": [
    "# Linear Regression Accuraccy : 61.83%\n",
    "# using some other regression models...\n",
    "# Accuracy score i got..\n",
    "# Decision Tree : 45.57%\n",
    "# Random Forest : 64.08%"
   ]
  },
  {
   "cell_type": "code",
   "execution_count": null,
   "id": "08c0beee",
   "metadata": {},
   "outputs": [],
   "source": []
  }
 ],
 "metadata": {
  "kernelspec": {
   "display_name": "Python 3 (ipykernel)",
   "language": "python",
   "name": "python3"
  },
  "language_info": {
   "codemirror_mode": {
    "name": "ipython",
    "version": 3
   },
   "file_extension": ".py",
   "mimetype": "text/x-python",
   "name": "python",
   "nbconvert_exporter": "python",
   "pygments_lexer": "ipython3",
   "version": "3.10.9"
  }
 },
 "nbformat": 4,
 "nbformat_minor": 5
}
